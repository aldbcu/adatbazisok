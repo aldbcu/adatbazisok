{
    "metadata": {
        "kernelspec": {
            "name": "SQL",
            "display_name": "SQL",
            "language": "sql"
        },
        "language_info": {
            "name": "sql",
            "version": ""
        }
    },
    "nbformat_minor": 2,
    "nbformat": 4,
    "cells": [
        {
            "cell_type": "markdown",
            "source": [
                "1\\. \"**dvd\\_magyar**\" adatbázis \"**dvd**\" táblájának \"_nettoar_\" oszlopa"
            ],
            "metadata": {
                "azdata_cell_guid": "89abbd17-4d79-4acf-aa7f-cd34e570bb6b"
            },
            "attachments": {}
        },
        {
            "cell_type": "code",
            "source": [
                "SELECT MAX(nettoar) AS 'Legnagyobb értéke',\r\n",
                "       MIN(nettoar) AS 'Legkisebb érték',\r\n",
                "       AVG(nettoar) AS 'Átlag érték',\r\n",
                "       STDEV(nettoar) AS 'Szórás'\r\n",
                "FROM dvd"
            ],
            "metadata": {
                "azdata_cell_guid": "2c9d5b35-64c3-4f5e-816c-1d933dd13fdd",
                "language": "sql"
            },
            "outputs": [
                {
                    "output_type": "display_data",
                    "data": {
                        "text/html": "(1 row affected)"
                    },
                    "metadata": {}
                },
                {
                    "output_type": "display_data",
                    "data": {
                        "text/html": "Total execution time: 00:00:00.039"
                    },
                    "metadata": {}
                },
                {
                    "output_type": "execute_result",
                    "metadata": {},
                    "execution_count": 9,
                    "data": {
                        "application/vnd.dataresource+json": {
                            "schema": {
                                "fields": [
                                    {
                                        "name": "Legnagyobb értéke"
                                    },
                                    {
                                        "name": "Legkisebb érték"
                                    },
                                    {
                                        "name": "Átlag érték"
                                    },
                                    {
                                        "name": "Szórás"
                                    }
                                ]
                            },
                            "data": [
                                {
                                    "Legnagyobb értéke": "6098",
                                    "Legkisebb érték": "3102",
                                    "Átlag érték": "4682,336477987421",
                                    "Szórás": "871,86613556767"
                                }
                            ]
                        },
                        "text/html": [
                            "<table>",
                            "<tr><th>Legnagyobb értéke</th><th>Legkisebb érték</th><th>Átlag érték</th><th>Szórás</th></tr>",
                            "<tr><td>6098</td><td>3102</td><td>4682,336477987421</td><td>871,86613556767</td></tr>",
                            "</table>"
                        ]
                    }
                }
            ],
            "execution_count": 9
        },
        {
            "cell_type": "markdown",
            "source": [
                "2.  \"**dvd\\_magyar**\" adatbázis \"**dvd**\" táblájának \"_cim_\" oszlopa"
            ],
            "metadata": {
                "azdata_cell_guid": "3ce47351-8ba8-4d53-ac46-205b49294ab8"
            },
            "attachments": {}
        },
        {
            "cell_type": "code",
            "source": [
                "SELECT MIN(LEN(cim)) AS 'Legrövidebb cím hossza',\r\n",
                "       MAX(LEN(cim)) AS 'Leghosszabb cím hossza',\r\n",
                "       AVG(LEN(cim)) AS 'Címek átlaghosszúsága',\r\n",
                "       VAR(LEN(cim)) AS 'Címek hosszúságának szórásnégyzete'\r\n",
                "FROM dvd"
            ],
            "metadata": {
                "azdata_cell_guid": "99ea180d-67b5-4472-9463-6fe62043a119",
                "language": "sql"
            },
            "outputs": [
                {
                    "output_type": "display_data",
                    "data": {
                        "text/html": "Warning: Null value is eliminated by an aggregate or other SET operation."
                    },
                    "metadata": {}
                },
                {
                    "output_type": "display_data",
                    "data": {
                        "text/html": "(1 row affected)"
                    },
                    "metadata": {}
                },
                {
                    "output_type": "display_data",
                    "data": {
                        "text/html": "Total execution time: 00:00:00.068"
                    },
                    "metadata": {}
                },
                {
                    "output_type": "execute_result",
                    "metadata": {},
                    "execution_count": 22,
                    "data": {
                        "application/vnd.dataresource+json": {
                            "schema": {
                                "fields": [
                                    {
                                        "name": "Legrövidebb cím hossza"
                                    },
                                    {
                                        "name": "Leghosszabb cím hossza"
                                    },
                                    {
                                        "name": "Címek átlaghosszúsága"
                                    },
                                    {
                                        "name": "Címek hosszúságának szórásnégyzete"
                                    }
                                ]
                            },
                            "data": [
                                {
                                    "Legrövidebb cím hossza": "5",
                                    "Leghosszabb cím hossza": "63",
                                    "Címek átlaghosszúsága": "26",
                                    "Címek hosszúságának szórásnégyzete": "131,65199856247258"
                                }
                            ]
                        },
                        "text/html": [
                            "<table>",
                            "<tr><th>Legrövidebb cím hossza</th><th>Leghosszabb cím hossza</th><th>Címek átlaghosszúsága</th><th>Címek hosszúságának szórásnégyzete</th></tr>",
                            "<tr><td>5</td><td>63</td><td>26</td><td>131,65199856247258</td></tr>",
                            "</table>"
                        ]
                    }
                }
            ],
            "execution_count": 22
        }
    ]
}